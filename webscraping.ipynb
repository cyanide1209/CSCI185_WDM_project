{
 "cells": [
  {
   "cell_type": "code",
   "execution_count": null,
   "metadata": {},
   "outputs": [],
   "source": [
    "#webscraping here\n",
    "\n",
    "from pmaw import PushshiftAPI\n",
    "import datetime as dt\n",
    "import pandas as pd\n",
    "\n",
    "pd.set_option(\"display.max_columns\", None)                  #Configuration for pandas to show all columns on dataframe\n",
    "api = PushshiftAPI()                                        #Creating object of the API\n",
    "\n",
    "def posts_search(keyword, start_time, end_time, limit):\n",
    "    filters = ['id', 'author', 'created_utc','domain', 'url','title', 'num_comments'] # default columns for data analysis\n",
    "\n",
    "    posts = list(api.search_submissions(title=keyword, after=start_time, before=end_time, filter=filters, limit=limit))\n",
    "\n",
    "    return pd.DataFrame(posts)                              #Return dataframe for analysis\n",
    "\n",
    "def main():\n",
    "\n",
    "    keyword = \"Black in Ukraine\"                           #key phrase we are looking for\n",
    "    start_time = int(dt.datetime(2022, 1, 24).timestamp())  #starting date for search\n",
    "    end_time = int(dt.datetime(2022, 3, 24).timestamp())   #ending date for search\n",
    "    limit = 1000                                           #Number of results wanted\n",
    "\n",
    "    posts_df = posts_search(keyword,start_time, end_time,limit)           #Call function for dataframe creation of posts\n",
    "\n",
    "    posts_df['datetime'] = posts_df['created_utc'].map(\n",
    "        lambda t: dt.datetime.fromtimestamp(t))\n",
    "    posts_df = posts_df.drop('created_utc', axis=1)                #Drop the column on timestamp format\n",
    "    posts_df = posts_df.sort_values(by='datetime')                 #Sort the Row by datetime\n",
    "    posts_df[\"datetime\"] = pd.to_datetime(posts_df[\"datetime\"])    #Convert timestamp format to datetime\n",
    "\n",
    "    # Save the dataset on a csv file\n",
    "    posts_df.to_csv(f'dataset_{keyword}_posts.csv', sep=',', header=True, index=False,\n",
    "                columns=['id', 'author', 'datetime', 'domain','url', 'title', 'num_comments'])\n",
    "\n",
    "if __name__== \"__main__\" : main()"
   ]
  }
 ],
 "metadata": {
  "language_info": {
   "name": "python"
  }
 },
 "nbformat": 4,
 "nbformat_minor": 2
}
